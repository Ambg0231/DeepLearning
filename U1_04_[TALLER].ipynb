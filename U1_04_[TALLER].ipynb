{
  "cells": [
    {
      "cell_type": "markdown",
      "metadata": {
        "id": "f7FCgh7p891V"
      },
      "source": [
        "# LAB 01.01 - WARM UP"
      ]
    },
    {
      "cell_type": "markdown",
      "source": [
        "Angela Burgos, Sandra Escobar"
      ],
      "metadata": {
        "id": "2jPUEsPOFS-y"
      }
    },
    {
      "cell_type": "code",
      "execution_count": 1,
      "metadata": {
        "colab": {
          "base_uri": "https://localhost:8080/"
        },
        "id": "qwI8HgZd891W",
        "outputId": "2f8284a6-b5a7-4821-de97-c4f8ceeeef04"
      },
      "outputs": [
        {
          "output_type": "stream",
          "name": "stdout",
          "text": [
            "replicating local resources\n"
          ]
        }
      ],
      "source": [
        "!wget --no-cache -O init.py -q https://raw.githubusercontent.com/acubillosunal/UBM-DEEP-LEARNING-1/main/init.py\n",
        "import init; init.init(force_download=False);"
      ]
    },
    {
      "cell_type": "markdown",
      "metadata": {
        "id": "-XqGOGI3891Y"
      },
      "source": [
        "## Task 1: An operation with matrices\n",
        "\n",
        "Given the following matrices and vectors:\n",
        "\n",
        "- $X \\in \\mathbb{R}^{m\\times n}$\n",
        "- $y \\in \\mathbb{R}^m$\n",
        "- $W \\in \\mathbb{R}^{n\\times 1}$\n",
        "- $b \\in \\mathbb{R}$\n",
        "\n",
        "Complete the following function so that it computes the following value:\n",
        "\n",
        "$$\\text{mean}\\bigg(\\big(\\text{relu}(X \\times W + b) - y\\big)^2\\bigg)$$\n",
        "\n",
        "observe that:\n",
        "\n",
        "- $X\\times W \\in \\mathbb{R}^m$ and $b \\in \\mathbb{R}$, so $b$ gets added (_broadcasted_) to all elements of $X \\times W$\n",
        "- $\\text{mean}$ is the mean of the elements of an vector with $m$ elements.\n",
        "- The result is a number $\\in \\mathbb{R}$\n",
        "- $\\text{relu}(z)=\\text{max}(0,z)$ is a function $\\mathbb{R}\\rightarrow\\mathbb{R}$ that when applied to a vector is also **broadcasted** (applied individually to each element of the vector)\n",
        "\n",
        "**CHALLENGE**: Solve it with a single line of Python code (not counting the `relu` function definition)."
      ]
    },
    {
      "cell_type": "code",
      "execution_count": 11,
      "metadata": {
        "id": "SYa5Tj3-891Z"
      },
      "outputs": [],
      "source": [
        "import numpy as np\n",
        "\n",
        "def operation(X,y,W,b):\n",
        "    relu = lambda x: x*(x>0)\n",
        "    return np.mean((relu(np.dot(X, W) + b) - y) ** 2)"
      ]
    },
    {
      "cell_type": "markdown",
      "source": [
        "**1. Explicación:**\n",
        "\n",
        "\n",
        "*   X es una matriz de dimensiones m x n\n",
        "    * m es el número de ejemplos\n",
        "    * n es el número de caracteristicas de cada ejemplo\n",
        "*   Y es un vector de dimensiones mx1 (Contiene valores objetivo correspondientes a c/u de los ejemplos en X)\n",
        "* w es un vector columna de dimensiones nx1. Pesos del modelo lineal\n",
        "* b es el escalar (bias)\n",
        "\n",
        "La función relu (Rectified Linear Unit) devuelve el valor de entrada si es positivo y 0 si es negativo. utiliza la función lambda.\n",
        "\n",
        "np.dot realiza la multiplicación matricial entre X y W, lo que resulta en un vector de dimensiones mx1\n",
        "\n",
        "+b es el sesgo que se suma a cada elemento del vector que resulta de la multiplicación. b es escalar, entonces, se suma el mismo valor b a todos los elementos del vector.\n",
        "\n",
        "**Aplicación Relu:**\n",
        "Entendemos que, la función se aplica a cada elemento del vector resultante de la operación explicada anteriormente (np.dot(X, W)+b), transformando todos los negativos en 0 y dejando los positivos sin cambios.\n",
        "\n",
        "**Conclusión del desafío:** Se calcula el error duadratico medio:\n",
        "1. relu()-y: Calcula la diferencia entre la salida del modelo y los valores objetivo (y)\n",
        "2. **2: Eleva al cuadrado las diferencias para penalizar errores grandes\n",
        "3. np.mean: Calcula la media de las operaciones anteriores, lo que da como resultado el MSE."
      ],
      "metadata": {
        "id": "eo3SRtPgALWO"
      }
    },
    {
      "cell_type": "markdown",
      "metadata": {
        "id": "f2WatBYa891a"
      },
      "source": [
        "test your code with the following case, which should result in `0.15848`"
      ]
    },
    {
      "cell_type": "code",
      "execution_count": 12,
      "metadata": {
        "id": "GX2cqDfm891a"
      },
      "outputs": [],
      "source": [
        "X = np.array([[-0.09348275, -0.17182042, -0.29143506],\n",
        "              [ 0.34581753,  0.37816707,  0.39850916],\n",
        "              [ 0.23478876, -0.07832256,  0.10793716],\n",
        "              [-0.1746856 , -0.10240038, -0.27959607]])\n",
        "\n",
        "y = np.array([[-0.47312685],\n",
        "              [ 0.42086142],\n",
        "              [ 0.44194868],\n",
        "              [ 0.46536898]])\n",
        "W = np.array([[0.12650597],\n",
        "              [0.49952987],\n",
        "              [0.34470552]])\n",
        "\n",
        "b = -0.02"
      ]
    },
    {
      "cell_type": "code",
      "execution_count": 14,
      "metadata": {
        "colab": {
          "base_uri": "https://localhost:8080/"
        },
        "id": "CAFNTiKo891a",
        "outputId": "9e006361-a4b4-4843-e94a-7ad3a2f2d7ab"
      },
      "outputs": [
        {
          "output_type": "stream",
          "name": "stdout",
          "text": [
            "Resultado: 0.15848\n"
          ]
        }
      ],
      "source": [
        "resultado = operation(X,y,W,b)\n",
        "print(f\"Resultado: {resultado:.5f}\")"
      ]
    },
    {
      "cell_type": "markdown",
      "metadata": {
        "id": "wHr4Q2Fc891a"
      },
      "source": [
        "test your code with random input values. This is actually what the **automatic grader** does"
      ]
    },
    {
      "cell_type": "code",
      "execution_count": 15,
      "metadata": {
        "colab": {
          "base_uri": "https://localhost:8080/"
        },
        "id": "sIpcwxyU891b",
        "outputId": "fe06af7c-4496-433f-cc2e-0f753baf6c59"
      },
      "outputs": [
        {
          "output_type": "stream",
          "name": "stdout",
          "text": [
            "X=\n",
            " [[-0.46288556 -0.25265722]\n",
            " [-0.47921079 -0.06152815]]\n",
            "y=\n",
            " [ 0.48618646 -0.33857919]\n",
            "W=\n",
            " [[-0.35983153]\n",
            " [-0.16432122]]\n",
            "b=\n",
            " 0.44855503603871083\n",
            "an_operation= 0.4951944440510325\n"
          ]
        }
      ],
      "source": [
        "m,n = np.random.randint(5, size=2)+2\n",
        "X = np.random.random(size=(m,n))-0.5\n",
        "W = np.random.random(size=(n,1))-0.5\n",
        "b = np.random.random()-0.5\n",
        "y = np.random.random(size=n)-0.5\n",
        "print (\"X=\\n\", X)\n",
        "print (\"y=\\n\", y)\n",
        "print (\"W=\\n\", W)\n",
        "print (\"b=\\n\", b)\n",
        "print (\"an_operation=\", operation(X,y,W,b))"
      ]
    },
    {
      "cell_type": "code",
      "source": [
        "print(\"X=\\n\", X)\n",
        "print(\"y=\\n\", y)\n",
        "print(\"W=\\n\", W)\n",
        "print(\"b=\\n\", b)"
      ],
      "metadata": {
        "colab": {
          "base_uri": "https://localhost:8080/"
        },
        "id": "5NqDl0uX_iJq",
        "outputId": "54fb7564-2eb8-4d35-ffad-2d65ce4cc59c"
      },
      "execution_count": 16,
      "outputs": [
        {
          "output_type": "stream",
          "name": "stdout",
          "text": [
            "X=\n",
            " [[-0.46288556 -0.25265722]\n",
            " [-0.47921079 -0.06152815]]\n",
            "y=\n",
            " [ 0.48618646 -0.33857919]\n",
            "W=\n",
            " [[-0.35983153]\n",
            " [-0.16432122]]\n",
            "b=\n",
            " 0.44855503603871083\n"
          ]
        }
      ]
    },
    {
      "cell_type": "code",
      "source": [
        "resultado = operation(X, y, W, b)\n",
        "print(\"an_operation=\", resultado)"
      ],
      "metadata": {
        "colab": {
          "base_uri": "https://localhost:8080/"
        },
        "id": "adi6JTrE_iKd",
        "outputId": "b970c8f3-9765-45ab-e09a-6653c32591a5"
      },
      "execution_count": 17,
      "outputs": [
        {
          "output_type": "stream",
          "name": "stdout",
          "text": [
            "an_operation= 0.4951944440510325\n"
          ]
        }
      ]
    },
    {
      "cell_type": "markdown",
      "source": [
        "La función operation toma X, aplica un modelo lineal seguido de una función de activación relu, y luego calcula el error cuadrático medio entre la predicción y los valores reales. Se busca minimizar el error para ajustar los pesos w y el sesgo b."
      ],
      "metadata": {
        "id": "QCMnp92KCqw8"
      }
    },
    {
      "cell_type": "markdown",
      "metadata": {
        "id": "iUFD-6df891b"
      },
      "source": [
        "## Task 2: Function `argmax`\n",
        "\n",
        "Complete the following function such that when, given as argument a function `f(x)` with $x\\in\\mathbb{R}$, returns the value of $x$ which maximizes `f(x)`. If there is more than one value that maximizes the function, just return any one of those.\n",
        "\n",
        "Your return value must be exact up to 1 decimal position, and must be a number of type `float` (not a `numpy` array or any other type of object)\n",
        "\n",
        "**HINT**: Use [`scipy.optimize.minimize`](https://docs.scipy.org/doc/scipy/reference/generated/scipy.optimize.minimize.html) with the `BFGS` method, with a `lambda` function.\n",
        "\n",
        "**CHALLENGE**: Solve it with one single line of code (not counting the `import`)"
      ]
    },
    {
      "cell_type": "code",
      "execution_count": 18,
      "metadata": {
        "id": "svdG3hf5891b"
      },
      "outputs": [],
      "source": [
        "def argmax(f):\n",
        "    from scipy.optimize import minimize\n",
        "    return minimize(lambda x: -f(x), 0).x"
      ]
    },
    {
      "cell_type": "markdown",
      "source": [
        " La función minimize se utiliza para encontrar el mínimo de una función (el valor de x donde la función alcanza su valor mínimo).\n",
        "\n",
        "* lambda x -f: la función lambda toma un valor x y devuelve el valor negativo de f(x). minimize minimiza la función dada, pero requerimos maximizar la función f(x) (Tal como lo indica el ejercicio). En esta parte del código, invertimos el signo de f(x), minimizamos -f(x) lo que maximiza f(x).\n",
        "* minimize(lambda x: -f(x), 0): Aquí se llama a la función minimize, que intenta encontrar el valor de x que minimiza la función -f(x). el valor inicial de x que se utiliza como punto de partida para el algoritmo de minimización es 0.\n",
        "* .x: En este caso, como estamos minimizando -f(x), el valor de x es el valor que maximiza f(x), el .x extrae ese valor del resultado"
      ],
      "metadata": {
        "id": "UTsNCZ-NDB7S"
      }
    },
    {
      "cell_type": "markdown",
      "metadata": {
        "id": "Cy7Qg8-4891b"
      },
      "source": [
        "Test your code, the following two functions must have their max on `x=1` and `x=-2` approx."
      ]
    },
    {
      "cell_type": "code",
      "execution_count": 20,
      "metadata": {
        "id": "BXPHA-kI891b"
      },
      "outputs": [],
      "source": [
        "def A(x):\n",
        "    return -(x-1)**2\n",
        "\n",
        "B = lambda x: -(x+2)**4"
      ]
    },
    {
      "cell_type": "code",
      "source": [
        "x_max_A = argmax(A)\n",
        "print(f\"El máximo de A(x) está en x = {x_max_A[0]:.2f}\")\n",
        "x_max_B = argmax(B)\n",
        "print(f\"El máximo de B(x) está en x = {x_max_B[0]:.2f}\")"
      ],
      "metadata": {
        "colab": {
          "base_uri": "https://localhost:8080/"
        },
        "id": "TaMZcGEF_-et",
        "outputId": "dc75a896-5b8d-42e0-dca4-dcda08387f24"
      },
      "execution_count": 21,
      "outputs": [
        {
          "output_type": "stream",
          "name": "stdout",
          "text": [
            "El máximo de A(x) está en x = 1.00\n",
            "El máximo de B(x) está en x = -1.99\n"
          ]
        }
      ]
    },
    {
      "cell_type": "code",
      "execution_count": 22,
      "metadata": {
        "colab": {
          "base_uri": "https://localhost:8080/",
          "height": 255
        },
        "id": "6VXJYddG891c",
        "outputId": "0ae91daf-1699-4b85-c9b3-275ee5845de0"
      },
      "outputs": [
        {
          "output_type": "execute_result",
          "data": {
            "text/plain": [
              "Text(0.5, 1.0, 'B(X)')"
            ]
          },
          "metadata": {},
          "execution_count": 22
        },
        {
          "output_type": "display_data",
          "data": {
            "text/plain": [
              "<Figure size 1000x200 with 2 Axes>"
            ],
            "image/png": "[encoded data removed]"
          },
          "metadata": {}
        }
      ],
      "source": [
        "import matplotlib.pyplot as plt\n",
        "%matplotlib inline\n",
        "\n",
        "x = np.linspace(-6,4, 100)\n",
        "plt.figure(figsize=(10,2))\n",
        "plt.subplot(121); plt.plot(x, A(x)); plt.title(\"A(X)\")\n",
        "plt.subplot(122); plt.plot(x, B(x)); plt.title(\"B(X)\")"
      ]
    },
    {
      "cell_type": "code",
      "execution_count": 23,
      "metadata": {
        "colab": {
          "base_uri": "https://localhost:8080/"
        },
        "id": "aQJUTUMB891c",
        "outputId": "e078bb93-4471-4832-cb9d-9f641f3815fb"
      },
      "outputs": [
        {
          "output_type": "execute_result",
          "data": {
            "text/plain": [
              "(array([0.99999999]), array([-1.98794985]))"
            ]
          },
          "metadata": {},
          "execution_count": 23
        }
      ],
      "source": [
        "argmax(A), argmax(B)"
      ]
    },
    {
      "cell_type": "markdown",
      "source": [
        "La función argmax busca el valor de x que maximiza la función f(x), esto lo hace utilizando la función minimize para minimizar el valor negativo de f(x) que es equivalente a maximizar f(x)."
      ],
      "metadata": {
        "id": "04h4DDRmEdLK"
      }
    }
  ],
  "metadata": {
    "kernelspec": {
      "display_name": "Python 3",
      "language": "python",
      "name": "python3"
    },
    "language_info": {
      "codemirror_mode": {
        "name": "ipython",
        "version": 3
      },
      "file_extension": ".py",
      "mimetype": "text/x-python",
      "name": "python",
      "nbconvert_exporter": "python",
      "pygments_lexer": "ipython3",
      "version": "3.11.5"
    },
    "varInspector": {
      "cols": {
        "lenName": 16,
        "lenType": 16,
        "lenVar": 40
      },
      "kernels_config": {
        "python": {
          "delete_cmd_postfix": "",
          "delete_cmd_prefix": "del ",
          "library": "var_list.py",
          "varRefreshCmd": "print(var_dic_list())"
        },
        "r": {
          "delete_cmd_postfix": ") ",
          "delete_cmd_prefix": "rm(",
          "library": "var_list.r",
          "varRefreshCmd": "cat(var_dic_list()) "
        }
      },
      "types_to_exclude": [
        "module",
        "function",
        "builtin_function_or_method",
        "instance",
        "_Feature"
      ],
      "window_display": false
    },
    "colab": {
      "provenance": []
    }
  },
  "nbformat": 4,
  "nbformat_minor": 0
}